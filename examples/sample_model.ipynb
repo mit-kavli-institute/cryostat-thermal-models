{
 "cells": [
  {
   "cell_type": "code",
   "execution_count": null,
   "id": "0b3b3c26",
   "metadata": {},
   "outputs": [
    {
     "ename": "ValueError",
     "evalue": "could not convert string '35.80619720284622,' to float64 at row 0, column 1.",
     "output_type": "error",
     "traceback": [
      "\u001b[31m---------------------------------------------------------------------------\u001b[39m",
      "\u001b[31mValueError\u001b[39m                                Traceback (most recent call last)",
      "\u001b[36mCell\u001b[39m\u001b[36m \u001b[39m\u001b[32mIn[3]\u001b[39m\u001b[32m, line 30\u001b[39m\n\u001b[32m     28\u001b[39m T = np.linspace(\u001b[32m30\u001b[39m, \u001b[32m100\u001b[39m, \u001b[32m100\u001b[39m)\n\u001b[32m     29\u001b[39m plt.figure(figsize=(\u001b[32m8\u001b[39m, \u001b[32m5\u001b[39m))\n\u001b[32m---> \u001b[39m\u001b[32m30\u001b[39m plt.plot(T, \u001b[43mfridge_curve\u001b[49m\u001b[43m(\u001b[49m\u001b[43mT\u001b[49m\u001b[43m)\u001b[49m, label=\u001b[33m\"\u001b[39m\u001b[33mFridge Curve\u001b[39m\u001b[33m\"\u001b[39m)\n\u001b[32m     31\u001b[39m plt.xlabel(\u001b[33m\"\u001b[39m\u001b[33mTemperature (K)\u001b[39m\u001b[33m\"\u001b[39m)\n\u001b[32m     32\u001b[39m plt.ylabel(\u001b[33m\"\u001b[39m\u001b[33mLoad (W)\u001b[39m\u001b[33m\"\u001b[39m)\n",
      "\u001b[36mCell\u001b[39m\u001b[36m \u001b[39m\u001b[32mIn[3]\u001b[39m\u001b[32m, line 17\u001b[39m, in \u001b[36mfridge_curve\u001b[39m\u001b[34m(T)\u001b[39m\n\u001b[32m     15\u001b[39m \u001b[38;5;250m\u001b[39m\u001b[33;03m\"\"\" Sample Curve for the Cryotel GT Fridge\"\"\"\u001b[39;00m\n\u001b[32m     16\u001b[39m \u001b[38;5;66;03m# load the fridge curve data\u001b[39;00m\n\u001b[32m---> \u001b[39m\u001b[32m17\u001b[39m fridge_temp, fridge_lift = \u001b[43mnp\u001b[49m\u001b[43m.\u001b[49m\u001b[43mloadtxt\u001b[49m\u001b[43m(\u001b[49m\u001b[43mos\u001b[49m\u001b[43m.\u001b[49m\u001b[43mpath\u001b[49m\u001b[43m.\u001b[49m\u001b[43mjoin\u001b[49m\u001b[43m(\u001b[49m\u001b[43mDATA_PATH\u001b[49m\u001b[43m,\u001b[49m\u001b[43m \u001b[49m\u001b[33;43m\"\u001b[39;49m\u001b[33;43mfridges\u001b[39;49m\u001b[33;43m\"\u001b[39;49m\u001b[43m,\u001b[49m\u001b[43m \u001b[49m\u001b[33;43m\"\u001b[39;49m\u001b[33;43mCryotelGT_LoadCurve.csv\u001b[39;49m\u001b[33;43m\"\u001b[39;49m\u001b[43m)\u001b[49m\u001b[43m,\u001b[49m\u001b[43m \u001b[49m\u001b[43munpack\u001b[49m\u001b[43m=\u001b[49m\u001b[38;5;28;43;01mTrue\u001b[39;49;00m\u001b[43m)\u001b[49m\n\u001b[32m     19\u001b[39m \u001b[38;5;66;03m# interpolate the fridge curve\u001b[39;00m\n\u001b[32m     20\u001b[39m fridge_interp = np.interp(T, fridge_temp, fridge_lift)\n",
      "\u001b[36mFile \u001b[39m\u001b[32m~/Desktop/Work/MIT/SuperFIRE/GIT/cryostat-thermal-models/.conda/lib/python3.11/site-packages/numpy/lib/_npyio_impl.py:1397\u001b[39m, in \u001b[36mloadtxt\u001b[39m\u001b[34m(fname, dtype, comments, delimiter, converters, skiprows, usecols, unpack, ndmin, encoding, max_rows, quotechar, like)\u001b[39m\n\u001b[32m   1394\u001b[39m \u001b[38;5;28;01mif\u001b[39;00m \u001b[38;5;28misinstance\u001b[39m(delimiter, \u001b[38;5;28mbytes\u001b[39m):\n\u001b[32m   1395\u001b[39m     delimiter = delimiter.decode(\u001b[33m'\u001b[39m\u001b[33mlatin1\u001b[39m\u001b[33m'\u001b[39m)\n\u001b[32m-> \u001b[39m\u001b[32m1397\u001b[39m arr = \u001b[43m_read\u001b[49m\u001b[43m(\u001b[49m\u001b[43mfname\u001b[49m\u001b[43m,\u001b[49m\u001b[43m \u001b[49m\u001b[43mdtype\u001b[49m\u001b[43m=\u001b[49m\u001b[43mdtype\u001b[49m\u001b[43m,\u001b[49m\u001b[43m \u001b[49m\u001b[43mcomment\u001b[49m\u001b[43m=\u001b[49m\u001b[43mcomment\u001b[49m\u001b[43m,\u001b[49m\u001b[43m \u001b[49m\u001b[43mdelimiter\u001b[49m\u001b[43m=\u001b[49m\u001b[43mdelimiter\u001b[49m\u001b[43m,\u001b[49m\n\u001b[32m   1398\u001b[39m \u001b[43m            \u001b[49m\u001b[43mconverters\u001b[49m\u001b[43m=\u001b[49m\u001b[43mconverters\u001b[49m\u001b[43m,\u001b[49m\u001b[43m \u001b[49m\u001b[43mskiplines\u001b[49m\u001b[43m=\u001b[49m\u001b[43mskiprows\u001b[49m\u001b[43m,\u001b[49m\u001b[43m \u001b[49m\u001b[43musecols\u001b[49m\u001b[43m=\u001b[49m\u001b[43musecols\u001b[49m\u001b[43m,\u001b[49m\n\u001b[32m   1399\u001b[39m \u001b[43m            \u001b[49m\u001b[43munpack\u001b[49m\u001b[43m=\u001b[49m\u001b[43munpack\u001b[49m\u001b[43m,\u001b[49m\u001b[43m \u001b[49m\u001b[43mndmin\u001b[49m\u001b[43m=\u001b[49m\u001b[43mndmin\u001b[49m\u001b[43m,\u001b[49m\u001b[43m \u001b[49m\u001b[43mencoding\u001b[49m\u001b[43m=\u001b[49m\u001b[43mencoding\u001b[49m\u001b[43m,\u001b[49m\n\u001b[32m   1400\u001b[39m \u001b[43m            \u001b[49m\u001b[43mmax_rows\u001b[49m\u001b[43m=\u001b[49m\u001b[43mmax_rows\u001b[49m\u001b[43m,\u001b[49m\u001b[43m \u001b[49m\u001b[43mquote\u001b[49m\u001b[43m=\u001b[49m\u001b[43mquotechar\u001b[49m\u001b[43m)\u001b[49m\n\u001b[32m   1402\u001b[39m \u001b[38;5;28;01mreturn\u001b[39;00m arr\n",
      "\u001b[36mFile \u001b[39m\u001b[32m~/Desktop/Work/MIT/SuperFIRE/GIT/cryostat-thermal-models/.conda/lib/python3.11/site-packages/numpy/lib/_npyio_impl.py:1048\u001b[39m, in \u001b[36m_read\u001b[39m\u001b[34m(fname, delimiter, comment, quote, imaginary_unit, usecols, skiplines, max_rows, converters, ndmin, unpack, dtype, encoding)\u001b[39m\n\u001b[32m   1045\u001b[39m     data = _preprocess_comments(data, comments, encoding)\n\u001b[32m   1047\u001b[39m \u001b[38;5;28;01mif\u001b[39;00m read_dtype_via_object_chunks \u001b[38;5;129;01mis\u001b[39;00m \u001b[38;5;28;01mNone\u001b[39;00m:\n\u001b[32m-> \u001b[39m\u001b[32m1048\u001b[39m     arr = \u001b[43m_load_from_filelike\u001b[49m\u001b[43m(\u001b[49m\n\u001b[32m   1049\u001b[39m \u001b[43m        \u001b[49m\u001b[43mdata\u001b[49m\u001b[43m,\u001b[49m\u001b[43m \u001b[49m\u001b[43mdelimiter\u001b[49m\u001b[43m=\u001b[49m\u001b[43mdelimiter\u001b[49m\u001b[43m,\u001b[49m\u001b[43m \u001b[49m\u001b[43mcomment\u001b[49m\u001b[43m=\u001b[49m\u001b[43mcomment\u001b[49m\u001b[43m,\u001b[49m\u001b[43m \u001b[49m\u001b[43mquote\u001b[49m\u001b[43m=\u001b[49m\u001b[43mquote\u001b[49m\u001b[43m,\u001b[49m\n\u001b[32m   1050\u001b[39m \u001b[43m        \u001b[49m\u001b[43mimaginary_unit\u001b[49m\u001b[43m=\u001b[49m\u001b[43mimaginary_unit\u001b[49m\u001b[43m,\u001b[49m\n\u001b[32m   1051\u001b[39m \u001b[43m        \u001b[49m\u001b[43musecols\u001b[49m\u001b[43m=\u001b[49m\u001b[43musecols\u001b[49m\u001b[43m,\u001b[49m\u001b[43m \u001b[49m\u001b[43mskiplines\u001b[49m\u001b[43m=\u001b[49m\u001b[43mskiplines\u001b[49m\u001b[43m,\u001b[49m\u001b[43m \u001b[49m\u001b[43mmax_rows\u001b[49m\u001b[43m=\u001b[49m\u001b[43mmax_rows\u001b[49m\u001b[43m,\u001b[49m\n\u001b[32m   1052\u001b[39m \u001b[43m        \u001b[49m\u001b[43mconverters\u001b[49m\u001b[43m=\u001b[49m\u001b[43mconverters\u001b[49m\u001b[43m,\u001b[49m\u001b[43m \u001b[49m\u001b[43mdtype\u001b[49m\u001b[43m=\u001b[49m\u001b[43mdtype\u001b[49m\u001b[43m,\u001b[49m\n\u001b[32m   1053\u001b[39m \u001b[43m        \u001b[49m\u001b[43mencoding\u001b[49m\u001b[43m=\u001b[49m\u001b[43mencoding\u001b[49m\u001b[43m,\u001b[49m\u001b[43m \u001b[49m\u001b[43mfilelike\u001b[49m\u001b[43m=\u001b[49m\u001b[43mfilelike\u001b[49m\u001b[43m,\u001b[49m\n\u001b[32m   1054\u001b[39m \u001b[43m        \u001b[49m\u001b[43mbyte_converters\u001b[49m\u001b[43m=\u001b[49m\u001b[43mbyte_converters\u001b[49m\u001b[43m)\u001b[49m\n\u001b[32m   1056\u001b[39m \u001b[38;5;28;01melse\u001b[39;00m:\n\u001b[32m   1057\u001b[39m     \u001b[38;5;66;03m# This branch reads the file into chunks of object arrays and then\u001b[39;00m\n\u001b[32m   1058\u001b[39m     \u001b[38;5;66;03m# casts them to the desired actual dtype.  This ensures correct\u001b[39;00m\n\u001b[32m   1059\u001b[39m     \u001b[38;5;66;03m# string-length and datetime-unit discovery (like `arr.astype()`).\u001b[39;00m\n\u001b[32m   1060\u001b[39m     \u001b[38;5;66;03m# Due to chunking, certain error reports are less clear, currently.\u001b[39;00m\n\u001b[32m   1061\u001b[39m     \u001b[38;5;28;01mif\u001b[39;00m filelike:\n",
      "\u001b[31mValueError\u001b[39m: could not convert string '35.80619720284622,' to float64 at row 0, column 1."
     ]
    },
    {
     "data": {
      "text/plain": [
       "<Figure size 800x500 with 0 Axes>"
      ]
     },
     "metadata": {},
     "output_type": "display_data"
    }
   ],
   "source": [
    "import os\n",
    "import matplotlib.pyplot as plt\n",
    "import numpy as np\n",
    "from cryotherm.material_db import MaterialDatabase\n",
    "from cryotherm.stage import Stage\n",
    "from cryotherm.conduction import Conduction\n",
    "from cryotherm.radiation import Radiation\n",
    "from cryotherm.solver import ThermalModel\n",
    "\n",
    "from cryotherm import DATA_PATH\n",
    "\n",
    "db = MaterialDatabase(DATA_PATH)\n",
    "\n",
    "def fridge_curve(T):\n",
    "    \"\"\" Sample Curve for the Cryotel GT Fridge\"\"\"\n",
    "    # load the fridge curve data from the csv file\n",
    "    fridge_temp, fridge_lift = np.loadtxt(os.path.join(DATA_PATH, \"fridges\", \"CryotelGT_LoadCurve.csv\"), unpack=True)\n",
    "    \n",
    "\n",
    "    # interpolate the fridge curve\n",
    "    fridge_interp = np.interp(T, fridge_temp, fridge_lift)\n",
    "\n",
    "    # if the temperature is below the minimum, return 0\n",
    "    fridge_interp[T < fridge_temp.min()] = 0\n",
    "    return fridge_interp\n",
    "\n",
    "# plot the fridge curve\n",
    "\n",
    "T = np.linspace(30, 100, 100)\n",
    "plt.figure(figsize=(8, 5))\n",
    "plt.plot(T, fridge_curve(T), label=\"Fridge Curve\")\n",
    "plt.xlabel(\"Temperature (K)\")\n",
    "plt.ylabel(\"Load (W)\")\n",
    "plt.title(\"Fridge Curve for Inner Stage\")\n",
    "plt.grid()\n",
    "plt.legend()\n",
    "plt.show()\n",
    "\n",
    "# stages\n",
    "outer  = Stage(\"Outer\", 300, fixed=True)\n",
    "middle = Stage(\"Mid\", 150, external_load=0.3)\n",
    "inner  = Stage(\"Inner\", 80, fixed = True)\n",
    "\n",
    "\n",
    "\n",
    "# links\n",
    "strap1 = Conduction(outer, middle, length=0.05, area=1e-5,\n",
    "                    material=\"Al6061\", mat_db=db)\n",
    "strap2 = Conduction(middle, inner, length=0.02, area=5e-5,\n",
    "                    material=\"Al6061\", mat_db=db)\n",
    "\n",
    "rad1 = Radiation(outer, middle, emissivity=0.1, area=0.01)\n",
    "rad2 = Radiation(middle, inner, emissivity=0.2, area=0.005)\n",
    "\n",
    "mdl = ThermalModel([outer, middle, inner],\n",
    "                   conductors=[strap1, strap2],\n",
    "                   radiators=[rad1, rad2])\n",
    "mdl.solve()\n",
    "\n",
    "for s in mdl.stages:\n",
    "    print(s)\n"
   ]
  }
 ],
 "metadata": {
  "kernelspec": {
   "display_name": "Python 3",
   "language": "python",
   "name": "python3"
  },
  "language_info": {
   "codemirror_mode": {
    "name": "ipython",
    "version": 3
   },
   "file_extension": ".py",
   "mimetype": "text/x-python",
   "name": "python",
   "nbconvert_exporter": "python",
   "pygments_lexer": "ipython3",
   "version": "3.11.13"
  }
 },
 "nbformat": 4,
 "nbformat_minor": 5
}
