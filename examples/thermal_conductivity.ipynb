{
 "cells": [
  {
   "cell_type": "markdown",
   "id": "69d21c43",
   "metadata": {},
   "source": [
    "# Example Thermal Conductivity Calculation\n",
    "This loads in the thermal conductivity data and demonstrates basic usage.\n"
   ]
  },
  {
   "cell_type": "markdown",
   "id": "aa546d32",
   "metadata": {},
   "source": [
    "### Load the materials database\n"
   ]
  },
  {
   "cell_type": "code",
   "execution_count": 1,
   "id": "03601168",
   "metadata": {},
   "outputs": [
    {
     "name": "stdout",
     "output_type": "stream",
     "text": [
      "Materials in the database:\n"
     ]
    },
    {
     "data": {
      "text/plain": [
       "['Al6061', 'G10norm', 'G10warp']"
      ]
     },
     "execution_count": 1,
     "metadata": {},
     "output_type": "execute_result"
    }
   ],
   "source": [
    "from cryotherm import DATA_PATH\n",
    "from cryotherm.material_db import MaterialDatabase\n",
    "\n",
    "db = MaterialDatabase(DATA_PATH)\n",
    "\n",
    "# List all the materials in the database\n",
    "print(\"Materials in the database:\")\n",
    "db.get_materials()\n"
   ]
  },
  {
   "cell_type": "markdown",
   "id": "71d60210",
   "metadata": {},
   "source": [
    "### Thermal Conductivity Calculation"
   ]
  },
  {
   "cell_type": "code",
   "execution_count": 2,
   "id": "de4d37b1",
   "metadata": {},
   "outputs": [
    {
     "name": "stdout",
     "output_type": "stream",
     "text": [
      "Thermal conductivity of Al6061 at 85.0 K: 88.814 W/m-K\n",
      "NIST value for Al6061 at 85 K: 88.814 W/m-K\n",
      "Difference: 0.000 W/m-K\n"
     ]
    }
   ],
   "source": [
    "# Example Thermal Conductivity Calculation\n",
    "material = \"Al6061\"\n",
    "T = 85.0\n",
    "k = db.get_k(material, T)\n",
    "\n",
    "print(f\"Thermal conductivity of {material} at {T} K: {k:.3f} W/m-K\")\n",
    "\n",
    "nist_value = 88.814 # NIST value for Al6061 at 85 K\n",
    "print(f\"NIST value for Al6061 at 85 K: {nist_value:.3f} W/m-K\")\n",
    "print(f\"Difference: {abs(k - nist_value):.3f} W/m-K\")   "
   ]
  },
  {
   "cell_type": "markdown",
   "id": "994ef3c7",
   "metadata": {},
   "source": [
    "### Thermal Conductivity Integral Calculation\n",
    "\n",
    "We calculate the integral conductivity for Aluminum 6061-T6 from 77K to 300K, and compare to a reference calculation from a legacy spreadsheet model."
   ]
  },
  {
   "cell_type": "code",
   "execution_count": 5,
   "id": "5a37df5a",
   "metadata": {},
   "outputs": [
    {
     "name": "stdout",
     "output_type": "stream",
     "text": [
      "Thermal conductivity of Al6061 at 77 K: 83.531 W/m-K\n",
      "Thermal conductivity of Al6061 at 300 K: 155.319 W/m-K\n",
      "Integral of thermal conductivity of Al6061 from 77 K to 300 K: 28683.501 W/m\n",
      "\tReference value: 28716.780 W/m from old spreadsheet version\n",
      "\tDifference: 33.279 W/m\n",
      "\tPercent difference: 0.116%\n",
      "\n",
      "Integral of thermal conductivity of Al6061 from 77 K to 300 K (legacy method): 28716.780 W/m\n",
      "\tReference value: 28716.780 W/m from old spreadsheet version\n",
      "\tDifference between legacy and reference value: 0.000 W/m\n",
      "\tPercent difference between legacy and reference value: 0.000%\n"
     ]
    }
   ],
   "source": [
    "material = \"Al6061\"\n",
    "T1 = 77\n",
    "T2 = 300\n",
    "k1 = db.get_k(material, T1)\n",
    "k2 = db.get_k(material, T2)\n",
    "print(f\"Thermal conductivity of {material} at {T1} K: {k1:.3f} W/m-K\")\n",
    "print(f\"Thermal conductivity of {material} at {T2} K: {k2:.3f} W/m-K\")\n",
    "dk = db.get_integral(material, T1, T2)\n",
    "\n",
    "print(f\"Integral of thermal conductivity of {material} from {T1} K to {T2} K: {dk:.3f} W/m\")\n",
    "reference_value = 28716.780\n",
    "print(f\"\\tReference value: {reference_value:.3f} W/m from old spreadsheet version\")\n",
    "print(f\"\\tDifference: {abs(dk - reference_value):.3f} W/m\")\n",
    "print(f\"\\tPercent difference: {abs((dk - reference_value) / reference_value) * 100:.3f}%\")\n",
    "print()\n",
    "\n",
    "# Repeat the calculation but use the legacy method that should match the old spreadsheet version\n",
    "dk_legacy = db.get_integral(material, T1, T2, method=\"legacy\")\n",
    "print(f\"Integral of thermal conductivity of {material} from {T1} K to {T2} K (legacy method): {dk_legacy:.3f} W/m\")\n",
    "print(f\"\\tReference value: {reference_value:.3f} W/m from old spreadsheet version\")\n",
    "print(f\"\\tDifference between legacy and reference value: {abs(dk_legacy - reference_value):.3f} W/m\")\n",
    "print(f\"\\tPercent difference between legacy and reference value: {abs((dk_legacy - reference_value) / reference_value) * 100:.3f}%\")\n"
   ]
  },
  {
   "cell_type": "code",
   "execution_count": null,
   "id": "fa355320",
   "metadata": {},
   "outputs": [],
   "source": []
  },
  {
   "cell_type": "code",
   "execution_count": null,
   "id": "625daa7e",
   "metadata": {},
   "outputs": [],
   "source": []
  }
 ],
 "metadata": {
  "kernelspec": {
   "display_name": "Python 3",
   "language": "python",
   "name": "python3"
  },
  "language_info": {
   "codemirror_mode": {
    "name": "ipython",
    "version": 3
   },
   "file_extension": ".py",
   "mimetype": "text/x-python",
   "name": "python",
   "nbconvert_exporter": "python",
   "pygments_lexer": "ipython3",
   "version": "3.11.13"
  }
 },
 "nbformat": 4,
 "nbformat_minor": 5
}
